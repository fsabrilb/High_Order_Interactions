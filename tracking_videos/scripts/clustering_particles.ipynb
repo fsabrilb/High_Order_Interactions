{
 "cells": [
  {
   "cell_type": "markdown",
   "metadata": {},
   "source": [
    "# Clustering particles"
   ]
  },
  {
   "cell_type": "code",
   "execution_count": 1,
   "metadata": {},
   "outputs": [],
   "source": [
    "# Libraries ----\n",
    "import sys  # type: ignore\n",
    "import imageio  # type: ignore\n",
    "import warnings\n",
    "import numpy as np  # type: ignore\n",
    "import pandas as pd  # type: ignore\n",
    "\n",
    "from tqdm import tqdm  # type: ignore\n",
    "\n",
    "sys.path.append('../modules')\n",
    "import track_particles as tp  # type: ignore\n",
    "import plot_tracking as plt_tp  # type: ignore\n",
    "import plot_clustering as plt_cp  # type: ignore\n",
    "import clustering_particles as cp  # type: ignore\n",
    "\n",
    "# Global options ----\n",
    "warnings.filterwarnings(\"ignore\")\n",
    "pd.options.mode.chained_assignment = None\n",
    "pd.set_option('display.max_columns', None)"
   ]
  },
  {
   "cell_type": "markdown",
   "metadata": {},
   "source": [
    "## Global variables"
   ]
  },
  {
   "cell_type": "code",
   "execution_count": 1,
   "metadata": {},
   "outputs": [],
   "source": [
    "input_path = \"../input_files\"\n",
    "output_path = \"../output_files\"\n",
    "log_path = \"../logs\"\n",
    "input_generation_date = \"2025-02-18\"\n",
    "\n",
    "n_particles = 3\n",
    "video_name = \"3n_0m_3f_230404_1\"\n",
    "save_figures = True\n",
    "save_tracking = True\n",
    "x_bounds = [0, 1080]\n",
    "y_bounds = [70, 1870]\n",
    "x_zoom = [0, 1080]\n",
    "y_zoom = [0, 1920]"
   ]
  },
  {
   "cell_type": "markdown",
   "metadata": {},
   "source": [
    "## Setting video information"
   ]
  },
  {
   "cell_type": "code",
   "execution_count": null,
   "metadata": {},
   "outputs": [],
   "source": [
    "# Load the video\n",
    "reader = imageio.get_reader(\"{}/{}.mp4\".format(input_path, video_name), \"ffmpeg\")\n",
    "\n",
    "# Check the number of frames\n",
    "num_frames = reader.count_frames()\n",
    "print(\"Total frames: {}\".format(num_frames))\n",
    "\n",
    "# Extract a frame to inspect the content\n",
    "time = 0\n",
    "frame = reader.get_data(time)\n",
    "print(\"Frames resolution: {} x {}\".format(frame.shape[0], frame.shape[1]))"
   ]
  },
  {
   "cell_type": "code",
   "execution_count": null,
   "metadata": {},
   "outputs": [],
   "source": [
    "df_tracked = pd.concat([\n",
    "    pd.read_csv(\"{}/tracked_{}_0.csv\".format(output_path, video_name), low_memory=False),\n",
    "    pd.read_csv(\"{}/tracked_{}_1.csv\".format(output_path, video_name), low_memory=False)#,\n",
    "    # pd.read_csv(\"{}/tracked_{}_2.csv\".format(output_path, video_name), low_memory=False),\n",
    "    # pd.read_csv(\"{}/tracked_{}_3.csv\".format(output_path, video_name), low_memory=False),\n",
    "    # pd.read_csv(\"{}/tracked_{}_4.csv\".format(output_path, video_name), low_memory=False),\n",
    "    # pd.read_csv(\"{}/tracked_{}_5.csv\".format(output_path, video_name), low_memory=False),\n",
    "    # pd.read_csv(\"{}/tracked_{}_6.csv\".format(output_path, video_name), low_memory=False),\n",
    "    #pd.read_csv(\"{}/tracked_{}_7.csv\".format(output_path, video_name), low_memory=False),\n",
    "    # pd.read_csv(\"{}/tracked_{}_8.csv\".format(output_path, video_name), low_memory=False)\n",
    "]).sort_values([\"id\", \"time\"])"
   ]
  },
  {
   "cell_type": "code",
   "execution_count": null,
   "metadata": {
    "scrolled": true
   },
   "outputs": [],
   "source": [
    "if \"coords_x\" in df_tracked.columns:\n",
    "    df_tracked[\"coords_x\"] = df_tracked[\"coords_x\"].apply(lambda x: np.fromstring(x, sep=\" \"))\n",
    "    df_tracked[\"coords_y\"] = df_tracked[\"coords_y\"].apply(lambda x: np.fromstring(x, sep=\" \"))\n",
    "df_tracked.sort_values([\"time\", \"id\"]).head(2 * n_particles)"
   ]
  },
  {
   "cell_type": "code",
   "execution_count": null,
   "metadata": {},
   "outputs": [],
   "source": [
    "# Manual Setup for time = 0\n",
    "tracking_0 = df_tracked[df_tracked[\"time\"] == 0]\n",
    "if tracking_0.shape[0] != n_particles:\n",
    "    # Manual fitting of initial time tracking\n",
    "    tracking_0 = tracking_0.drop_duplicates(subset=[\"id\"], keep=\"first\")\n",
    "    tracking_0 = tracking_0[tracking_0[\"id\"].isin([0, 1, 4])]\n",
    "    tracking_0[\"id\"] = np.arange(n_particles)\n",
    "    tracking_0[\"orientation\"] = np.array([\n",
    "        -tracking_0[\"orientation\"].values[0],\n",
    "        tracking_0[\"orientation\"].values[1],\n",
    "        -tracking_0[\"orientation\"].values[2]\n",
    "    ])\n",
    "\n",
    "    cols = [\"id\", \"time\", \"id_count\", \"position_x\", \"position_y\", \"orientation\"]\n",
    "    print(\"Initial tracking at time 0:\\n\", tracking_0[cols])\n",
    "\n",
    "    # Replace the manual setting\n",
    "    df_tracked = pd.concat([\n",
    "        tracking_0,\n",
    "        df_tracked[df_tracked[\"time\"] != 0]\n",
    "    ]).sort_values([\"id\", \"time\"])\n",
    "\n",
    "df_tracked.sort_values([\"time\", \"id\"]).head(n_particles + 1)"
   ]
  },
  {
   "cell_type": "markdown",
   "metadata": {},
   "source": [
    "## Velocities distribution in each frame"
   ]
  },
  {
   "cell_type": "code",
   "execution_count": null,
   "metadata": {},
   "outputs": [],
   "source": [
    "omega_threshold = np.pi / 2 # Angular velocity per frame\n",
    "velocity_threshold = 94.0 # Velocity per frame limited with half average size of particle\n",
    "print(\"Thresholds:\\n\\t- Velocity:\", velocity_threshold, \"\\n\\t- Angle:\", omega_threshold * 180 / np.pi)\n",
    "\n",
    "# Compute differences for each id\n",
    "df_tracked[\"delta_time\"] = df_tracked.groupby([\"id\"])[\"time\"].diff()\n",
    "df_tracked[\"velocity_x\"] = df_tracked.groupby([\"id\"])[\"position_x\"].diff()\n",
    "df_tracked[\"velocity_y\"] = df_tracked.groupby([\"id\"])[\"position_y\"].diff()\n",
    "df_tracked[\"velocity_orientation\"] = df_tracked.groupby([\"id\"])[\"orientation\"].diff()\n",
    "\n",
    "# Compute velocity components (change in position divided by change in time)\n",
    "df_tracked[\"velocity_x\"] = df_tracked[\"velocity_x\"] / df_tracked[\"delta_time\"]\n",
    "df_tracked[\"velocity_y\"] = df_tracked[\"velocity_y\"] / df_tracked[\"delta_time\"]\n",
    "df_tracked[\"velocity_orientation\"] = df_tracked[\"velocity_orientation\"] / df_tracked[\"delta_time\"]\n",
    "\n",
    "# Filter short jumps (highest velocities are False)\n",
    "df_tracked[\"mask_x\"] = np.where(np.abs(df_tracked[\"velocity_x\"]) <= velocity_threshold, True, False)\n",
    "df_tracked[\"mask_y\"] = np.where(np.abs(df_tracked[\"velocity_y\"]) <= velocity_threshold, True, False)\n",
    "df_tracked[\"mask_orientation\"] = np.where(np.abs(df_tracked[\"velocity_orientation\"]) <= omega_threshold, True, False)\n"
   ]
  },
  {
   "cell_type": "code",
   "execution_count": null,
   "metadata": {},
   "outputs": [],
   "source": [
    "bins = 100\n",
    "width = 10\n",
    "fancy_legend = True\n",
    "\n",
    "plt_cp.plot_velocities_distribution(\n",
    "    df_tracked=df_tracked,\n",
    "    bins=bins,\n",
    "    velocity_threshold=velocity_threshold,\n",
    "    omega_threshold=omega_threshold,\n",
    "    width=width,\n",
    "    fancy_legend=fancy_legend\n",
    ")"
   ]
  },
  {
   "cell_type": "code",
   "execution_count": null,
   "metadata": {},
   "outputs": [],
   "source": [
    "df_tracked[[\"id_count\"]].value_counts(dropna=False, sort=False, normalize=False).reset_index().sort_values(\"id_count\")"
   ]
  },
  {
   "cell_type": "markdown",
   "metadata": {},
   "source": [
    "## Clustering frames"
   ]
  },
  {
   "cell_type": "code",
   "execution_count": null,
   "metadata": {
    "scrolled": true
   },
   "outputs": [],
   "source": [
    "# id_count = df_tracked[\"id_count\"].max()\n",
    "type = \"local equalized\"\n",
    "clip_limit = 0.05\n",
    "omega_threshold = df_tracked[\"velocity_orientation\"].abs().quantile(0.965) # Angular velocity per frame\n",
    "velocity_threshold = 100 # Velocity per frame limited with half average size of particle\n",
    "compare_bounds = False\n",
    "similarity_threshold = 0.85\n",
    "\n",
    "print(\"Thresholds:\\n\\t- Velocity:\", velocity_threshold, \"\\n\\t- Angle:\", omega_threshold * 180 / np.pi, \"\\n\")\n",
    "# ids = df_tracked[df_tracked[\"id_count\"] != n_particles][\"id_count\"].unique()\n",
    "# ids = sorted(np.sort(ids), key=lambda n: abs(n - n_particles))\n",
    "\n",
    "df_clustered = cp.clustering_local_frames(\n",
    "    reader=reader,\n",
    "    df_tracked=df_tracked,\n",
    "    weights_previous_time=[0],\n",
    "    type=type,\n",
    "    clip_limit=clip_limit,\n",
    "    distance_threshold=velocity_threshold,\n",
    "    compare_bounds=compare_bounds,\n",
    "    similarity_threshold=similarity_threshold,\n",
    "    n_particles=n_particles\n",
    ")"
   ]
  },
  {
   "cell_type": "code",
   "execution_count": null,
   "metadata": {},
   "outputs": [],
   "source": [
    "df_clustered[\"id_count_new\"] = df_clustered.groupby([\"time\"])[\"id\"].transform(\"count\")  # noqa: 501"
   ]
  },
  {
   "cell_type": "markdown",
   "metadata": {},
   "source": [
    "### Explore final data"
   ]
  },
  {
   "cell_type": "code",
   "execution_count": null,
   "metadata": {
    "scrolled": true
   },
   "outputs": [],
   "source": [
    "df_counts = (\n",
    "    df_tracked[[\"id_count\", \"mask_x\", \"mask_y\", \"mask_orientation\"]]\n",
    "    .value_counts(dropna=False, sort=False, normalize=True)\n",
    "    .reset_index()\n",
    "    .sort_values([\"id_count\", \"mask_x\", \"mask_y\", \"mask_orientation\"])\n",
    ")\n",
    "df_counts[\"proportion\"] = 100 * df_counts[\"proportion\"]\n",
    "df_counts"
   ]
  },
  {
   "cell_type": "code",
   "execution_count": null,
   "metadata": {},
   "outputs": [],
   "source": [
    "omega_threshold = df_tracked[\"velocity_orientation\"].abs().quantile(0.965) # Angular velocity per frame\n",
    "velocity_threshold = df_tracked[\"velocity_x\"].abs().quantile(0.815) # Velocity per frame limited with half average size of particle\n",
    "print(\"Thresholds:\\n\\t- Velocity:\", velocity_threshold, \"\\n\\t- Angle:\", omega_threshold * 180 / np.pi, \"\\n\")\n",
    "\n",
    "# Compute differences for each id\n",
    "df_clustered[\"delta_time\"] = df_clustered.groupby([\"id\"])[\"time\"].diff()\n",
    "df_clustered[\"velocity_x\"] = df_clustered.groupby([\"id\"])[\"position_x\"].diff()\n",
    "df_clustered[\"velocity_y\"] = df_clustered.groupby([\"id\"])[\"position_y\"].diff()\n",
    "df_clustered[\"velocity_orientation\"] = df_clustered.groupby([\"id\"])[\"orientation\"].diff()\n",
    "\n",
    "# Compute velocity components (change in position divided by change in time)\n",
    "df_clustered[\"velocity_x\"] = df_clustered[\"velocity_x\"] / df_clustered[\"delta_time\"]\n",
    "df_clustered[\"velocity_y\"] = df_clustered[\"velocity_y\"] / df_clustered[\"delta_time\"]\n",
    "df_clustered[\"velocity_orientation\"] = df_clustered[\"velocity_orientation\"] / df_clustered[\"delta_time\"]\n",
    "\n",
    "# Filter short jumps (highest velocities are False)\n",
    "df_clustered[\"mask_x\"] = np.where(np.abs(df_clustered[\"velocity_x\"]) <= velocity_threshold, True, False)\n",
    "df_clustered[\"mask_y\"] = np.where(np.abs(df_clustered[\"velocity_y\"]) <= velocity_threshold, True, False)\n",
    "df_clustered[\"mask_orientation\"] = np.where(np.abs(df_clustered[\"velocity_orientation\"]) <= omega_threshold, True, False)\n"
   ]
  },
  {
   "cell_type": "code",
   "execution_count": null,
   "metadata": {
    "scrolled": true
   },
   "outputs": [],
   "source": [
    "df_counts = (\n",
    "    df_clustered[[\"id_count_new\", \"mask_x\", \"mask_y\", \"mask_orientation\"]]\n",
    "    .value_counts(dropna=False, sort=False, normalize=True)\n",
    "    .reset_index()\n",
    "    .sort_values([\"id_count_new\", \"mask_x\", \"mask_y\", \"mask_orientation\"])\n",
    ")\n",
    "df_counts[\"proportion\"] = 100 * df_counts[\"proportion\"]\n",
    "\n",
    "print(\"Final loss data : {}%\".format(df_counts[df_counts[\"id_count_new\"]!=n_particles][\"proportion\"].sum()))\n",
    "print(\"Final loss data X-axis: {}%\".format(df_counts[df_counts[\"mask_x\"]==False][\"proportion\"].sum()))\n",
    "print(\"Final loss data Y-axis: {}%\".format(df_counts[df_counts[\"mask_y\"]==False][\"proportion\"].sum()))\n",
    "print(\"Final loss data Angle : {}%\".format(df_counts[df_counts[\"mask_orientation\"]==False][\"proportion\"].sum()))\n",
    "df_counts"
   ]
  },
  {
   "cell_type": "code",
   "execution_count": null,
   "metadata": {},
   "outputs": [],
   "source": [
    "df_filter_clustered = df_clustered[df_clustered[\"id_count_new\"] == n_particles]\n",
    "df_filter_clustered[\"id_count\"] = df_filter_clustered[\"id_count_new\"]\n",
    "df_filter_clustered = df_filter_clustered.drop(columns=[\"id_count_new\"])"
   ]
  },
  {
   "cell_type": "code",
   "execution_count": null,
   "metadata": {
    "scrolled": true
   },
   "outputs": [],
   "source": [
    "bins = 100\n",
    "width = 10\n",
    "fancy_legend = True\n",
    "omega_threshold = df_tracked[\"velocity_orientation\"].abs().quantile(0.965) # Angular velocity per frame\n",
    "velocity_threshold = df_tracked[\"velocity_x\"].abs().quantile(0.815) # Velocity per frame limited with half average size of particle\n",
    "print(\"Thresholds:\\n\\t- Velocity:\", velocity_threshold, \"\\n\\t- Angle:\", omega_threshold * 180 / np.pi, \"\\n\")\n",
    "\n",
    "plt_cp.plot_velocities_distribution(\n",
    "    df_tracked=df_filter_clustered,\n",
    "    bins=bins,\n",
    "    velocity_threshold=velocity_threshold,\n",
    "    omega_threshold=omega_threshold,\n",
    "    width=width,\n",
    "    fancy_legend=fancy_legend\n",
    ")"
   ]
  },
  {
   "cell_type": "code",
   "execution_count": null,
   "metadata": {},
   "outputs": [],
   "source": [
    "if \"coords_x\" in df_filter_clustered.columns:\n",
    "    df_filter_clustered.drop(columns=[\"coords_x\", \"coords_y\"]).to_csv(\"{}/clustered_{}.csv\".format(output_path, video_name), index=False)\n",
    "else:\n",
    "    df_filter_clustered.to_csv(\"{}/clustered_{}.csv\".format(output_path, video_name), index=False)"
   ]
  },
  {
   "cell_type": "code",
   "execution_count": null,
   "metadata": {},
   "outputs": [],
   "source": [
    "df_filter_clustered.head(n_particles * 3)"
   ]
  },
  {
   "cell_type": "markdown",
   "metadata": {},
   "source": [
    "## Visualize final data"
   ]
  },
  {
   "cell_type": "code",
   "execution_count": null,
   "metadata": {},
   "outputs": [],
   "source": [
    "width = 10\n",
    "n_x_breaks = 20\n",
    "n_y_breaks = 20\n",
    "x_bounds = x_bounds  # Range: [0, 1080]\n",
    "y_bounds = y_bounds  # Range: [0, 1920]\n",
    "x_zoom = None  # x_zoom\n",
    "y_zoom = None  # y_zoom\n",
    "fancy_legend = True\n",
    "x_legend = 1.001\n",
    "y_legend = 0.821\n",
    "\n",
    "if save_figures:\n",
    "    df_data = df_filter_clustered[[\"time\", \"id_count\", \"id\"]].drop_duplicates()\n",
    "    df_data[\"id_included\"] = True\n",
    "    df_data[\"orientation_included\"] = True\n",
    "\n",
    "    for time in tqdm(df_filter_clustered[\"time\"].unique()):\n",
    "    # for time in tqdm([0, 10, 20, 50, 100]):\n",
    "        plt_tp.plot_tracking_frame(\n",
    "            reader=reader,\n",
    "            df_tracked_frame=df_filter_clustered,\n",
    "            width=width,\n",
    "            n_x_breaks=n_x_breaks,\n",
    "            n_y_breaks=n_y_breaks,\n",
    "            x_bounds=x_bounds,\n",
    "            y_bounds=y_bounds,\n",
    "            x_zoom=x_zoom,\n",
    "            y_zoom=y_zoom,\n",
    "            fancy_legend=fancy_legend,\n",
    "            x_legend=x_legend,\n",
    "            y_legend=y_legend,\n",
    "            save_figure=True,\n",
    "            output_path=output_path,\n",
    "            output_name=\"{}_c\".format(video_name),\n",
    "            time=time\n",
    "        )\n",
    "\n",
    "    df_data.to_csv(\"{}/{}_c/df_control.csv\".format(output_path, video_name), index=False)\n"
   ]
  },
  {
   "cell_type": "code",
   "execution_count": 2,
   "metadata": {},
   "outputs": [
    {
     "data": {
      "text/plain": [
       "'/home/fabril/Github/High_Order_Interactions/tracking_videos/output_files/3n_0m_3f_230404_1_c.zip'"
      ]
     },
     "execution_count": 2,
     "metadata": {},
     "output_type": "execute_result"
    }
   ],
   "source": [
    "from shutil import make_archive\n",
    "\n",
    "make_archive(\n",
    "    \"{}/{}_c\".format(output_path, video_name),\n",
    "    \"zip\",\n",
    "    output_path,\n",
    "    \"{}/{}_c\".format(output_path, video_name)\n",
    ")"
   ]
  }
 ],
 "metadata": {
  "kernelspec": {
   "display_name": "Python 3 (ipykernel)",
   "language": "python",
   "name": "python3"
  },
  "language_info": {
   "codemirror_mode": {
    "name": "ipython",
    "version": 3
   },
   "file_extension": ".py",
   "mimetype": "text/x-python",
   "name": "python",
   "nbconvert_exporter": "python",
   "pygments_lexer": "ipython3",
   "version": "3.10.12"
  }
 },
 "nbformat": 4,
 "nbformat_minor": 4
}
